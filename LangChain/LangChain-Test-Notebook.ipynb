{
 "cells": [
  {
   "cell_type": "code",
   "execution_count": 8,
   "id": "2ca7c406",
   "metadata": {
    "collapsed": true,
    "jupyter": {
     "outputs_hidden": true
    },
    "tags": []
   },
   "outputs": [],
   "source": [
    "# !pip3 install langchain\n",
    "# !pip3 install openai\n",
    "# !pip3 install chromadb\n",
    "# !pip3 install pypdf"
   ]
  },
  {
   "cell_type": "code",
   "execution_count": 12,
   "id": "20bf2bf2",
   "metadata": {
    "tags": []
   },
   "outputs": [],
   "source": [
    "from langchain.document_loaders import PyPDFLoader \n",
    "from langchain.embeddings import OpenAIEmbeddings \n",
    "from langchain.vectorstores import Chroma \n",
    "from langchain.chains import ConversationalRetrievalChain \n",
    "from langchain.llms import OpenAI \n",
    "import os\n",
    "import json\n",
    "\n",
    "with open(\"config.json\", \"r+\") as f : \n",
    "    config = json.load(f)\n",
    "f.close()\n",
    "\n",
    "os.environ[\"OPENAI_API_KEY\"] = config['API_Keys']['OpenAI']"
   ]
  },
  {
   "cell_type": "code",
   "execution_count": 29,
   "id": "0785b805",
   "metadata": {},
   "outputs": [
    {
     "data": {
      "text/plain": [
       "['/Users/nandy/Documents/GitHub/LLM_Research/Test_documents/AbbotData/Hcase0.pdf',\n",
       " '/Users/nandy/Documents/GitHub/LLM_Research/Test_documents/AbbotData/Hcase1.pdf',\n",
       " '/Users/nandy/Documents/GitHub/LLM_Research/Test_documents/AbbotData/Hcase2.pdf',\n",
       " '/Users/nandy/Documents/GitHub/LLM_Research/Test_documents/AbbotData/Hcase3.pdf',\n",
       " '/Users/nandy/Documents/GitHub/LLM_Research/Test_documents/AbbotData/Hcase4.pdf',\n",
       " '/Users/nandy/Documents/GitHub/LLM_Research/Test_documents/AbbotData/Hcase5.pdf']"
      ]
     },
     "execution_count": 29,
     "metadata": {},
     "output_type": "execute_result"
    }
   ],
   "source": [
    "pdf_paths = \"/Users/nandy/Documents/GitHub/LLM_Research/Test_documents/AbbotData/\" \n",
    "pdfs = [os.path.join(pdf_paths, f) for f in os.listdir(pdf_paths) if f.endswith(\".pdf\")]\n",
    "pdfs.sort()\n",
    "pdfs"
   ]
  },
  {
   "cell_type": "code",
   "execution_count": 91,
   "id": "c18bc3eb-2add-4af5-a823-78a419eedff7",
   "metadata": {
    "tags": []
   },
   "outputs": [
    {
     "name": "stdout",
     "output_type": "stream",
     "text": [
      "Observed problemsObserved problems provide information about problems that may occur on the system andprovide corrective actions that help to resolve the problems.If the corrective actions for an observed problem do not resolve the problem, contact the localrepresentative or find country-specific contact information at transfusion.abbott.NOTE: Corrective actions may involve hazardous activity. Use caution to minimize operatorexposure and to prevent personal injury or system damage. Examples of hazardous activitiesinclude:• The replacement of system probes.• The use of reagents, calibrators, controls, and specimens.• The removal of physical obstructions.• The removal of system waste.Related information...Troubleshooting, page 601Instrument observed problems, page 886Sample results observed problems, page 892User interface (UI) computer observed problems, page 901Printer observed problems, page 902Instrument observed problemsThe instrument observed problems include problems that occur on the instrument.Related information...Observed problems, page 886Power to the instrument is interrupted, page 887Specimen is not automatically re-aspirated after a test is reordered, page 887Touchscreen monitor display is blank, page 887Touchscreen monitor display fails to respond, page 887Optics Verification procedure failed, page 888Incubation Temperature Test failed, page 888Unable to retrieve incubation temperature tool from incubation track or process paths, page 889Reagent Carousel Temperature Tool failed, page 889Dispense Volume Test failed, page 890Status indicator is not illuminated on routine bay after a tray is inserted, page 891Status indicator is not illuminated on priority bay after a rack or cartridge is inserted, page 891TroubleshootingObserved problemsSection 10\n",
      "886Alinity s System Operations Manual80000555-110 - 2021-10-08\n"
     ]
    }
   ],
   "source": [
    "loader = PyPDFLoader(pdfs[5])\n",
    "pages = loader.load_and_split()\n",
    "print(pages[0].page_content)"
   ]
  },
  {
   "cell_type": "code",
   "execution_count": 92,
   "id": "51f4dd0f-a863-4d96-9571-8a9807d7fa0d",
   "metadata": {
    "tags": []
   },
   "outputs": [
    {
     "name": "stderr",
     "output_type": "stream",
     "text": [
      "Using embedded DuckDB with persistence: data will be stored in: .\n",
      "No embedding_function provided, using default embedding function: SentenceTransformerEmbeddingFunction\n"
     ]
    }
   ],
   "source": [
    "embeddings = OpenAIEmbeddings()\n",
    "vectordb = Chroma.from_documents(pages, embeddings=embeddings, persist_directory=\".\") "
   ]
  },
  {
   "cell_type": "code",
   "execution_count": 93,
   "id": "cf22ab02-d44c-48f9-a79d-ab16d2d84a0d",
   "metadata": {
    "tags": []
   },
   "outputs": [],
   "source": [
    "# import pickle\n",
    "# pickle.dump(vectordb.persist, open(\"/Users/nandy/Documents/GitHub/LLM_Research/LangChain/Abbot_data/abbottchromadb.pkl\", 'wb'))\n",
    "# explore the vectordb object to see if we can store it locally, or in pinecone maybe "
   ]
  },
  {
   "cell_type": "code",
   "execution_count": 94,
   "id": "831a0031",
   "metadata": {},
   "outputs": [
    {
     "data": {
      "text/plain": [
       "'Observed problemsObserved problems provide information about problems that may occur on the system andprovide corrective actions that help to resolve the problems.If the corrective actions for an observed problem do not resolve the problem, contact the localrepresentative or find country-specific contact information at transfusion.abbott.NOTE: Corrective actions may involve hazardous activity. Use caution to minimize operatorexposure and to prevent personal injury or system damage. Examples of hazardous activitiesinclude:• The replacement of system probes.• The use of reagents, calibrators, controls, and specimens.• The removal of physical obstructions.• The removal of system waste.Related information...Troubleshooting, page 601Instrument observed problems, page 886Sample results observed problems, page 892User interface (UI) computer observed problems, page 901Printer observed problems, page 902Instrument observed problemsThe instrument observed problems include problems that occur on the instrument.Related information...Observed problems, page 886Power to the instrument is interrupted, page 887Specimen is not automatically re-aspirated after a test is reordered, page 887Touchscreen monitor display is blank, page 887Touchscreen monitor display fails to respond, page 887Optics Verification procedure failed, page 888Incubation Temperature Test failed, page 888Unable to retrieve incubation temperature tool from incubation track or process paths, page 889Reagent Carousel Temperature Tool failed, page 889Dispense Volume Test failed, page 890Status indicator is not illuminated on routine bay after a tray is inserted, page 891Status indicator is not illuminated on priority bay after a rack or cartridge is inserted, page 891TroubleshootingObserved problemsSection 10\\n886Alinity s System Operations Manual80000555-110 - 2021-10-08'"
      ]
     },
     "execution_count": 94,
     "metadata": {},
     "output_type": "execute_result"
    }
   ],
   "source": [
    "pages[0].page_content"
   ]
  },
  {
   "cell_type": "code",
   "execution_count": 95,
   "id": "8e8cd89a-7b87-406f-a3bf-45f26de86949",
   "metadata": {
    "tags": []
   },
   "outputs": [],
   "source": [
    "qa = ConversationalRetrievalChain.from_llm(OpenAI(temperature=0.9, model_name=\"gpt-3.5-turbo\"),\n",
    "                                    vectordb.as_retriever(search_kwargs={\"k\": 1}), return_source_documents=True)"
   ]
  },
  {
   "cell_type": "code",
   "execution_count": 99,
   "id": "e723d47c-1b41-469b-8214-d9b5ef24038b",
   "metadata": {
    "tags": []
   },
   "outputs": [
    {
     "data": {
      "text/plain": [
       "'There can be various reasons for Optics Verification procedure to fail, including but not limited to: condensation on the Optics Verifier cartridge label, frozen Optics Verifier solution, expired Optics Verifier solution, incorrect target RLU value entered, deteriorated Optics Verifier solution, and hardware failure. The specific reason for the failure would need to be determined by reviewing the message codes obtained during the failed procedure and performing the corrective action for those message codes.'"
      ]
     },
     "execution_count": 99,
     "metadata": {},
     "output_type": "execute_result"
    }
   ],
   "source": [
    "#turn one \n",
    "#Are there any open source or third-party software components included in the Alinity s System software?\n",
    "chat_history = []\n",
    "query = \"What can be the reason for Optics Verification procedure failed ? \"\n",
    "result = qa({\"question\": query, \"chat_history\": chat_history})\n",
    "result['answer']"
   ]
  },
  {
   "cell_type": "code",
   "execution_count": 101,
   "id": "799bbe0d-d37f-4390-92c6-354eec310880",
   "metadata": {
    "tags": []
   },
   "outputs": [
    {
     "data": {
      "text/plain": [
       "'The corrective action for condensation on the Optics Verifier cartridge label during the Optics Verification procedure is to wipe the Optics Verifier cartridge label with a lint-free tissue to remove condensation.'"
      ]
     },
     "execution_count": 101,
     "metadata": {},
     "output_type": "execute_result"
    }
   ],
   "source": [
    "#turn two\n",
    "chat_history.append((query, result[\"answer\"]))\n",
    "query = \"What is the corrective action when condensation on the Optics Verifier cartridge label occur ? \"\n",
    "result = qa({\"question\": query, \"chat_history\": chat_history})\n",
    "result['answer']"
   ]
  },
  {
   "cell_type": "code",
   "execution_count": 11,
   "id": "cb4ab1d6-5073-4a0d-a22d-5f1c724f7239",
   "metadata": {
    "tags": []
   },
   "outputs": [
    {
     "data": {
      "text/plain": [
       "[('What should I do for a clean install?',\n",
       "  'For a clean install, I should drop the Equip. CFG file into place and import the IP addresses. I may need to run the sl -Msg2Fld tool if necessary.')]"
      ]
     },
     "execution_count": 11,
     "metadata": {},
     "output_type": "execute_result"
    }
   ],
   "source": []
  },
  {
   "cell_type": "code",
   "execution_count": 54,
   "id": "21b23a88-e682-47d7-8364-975c71aa3751",
   "metadata": {
    "tags": []
   },
   "outputs": [
    {
     "name": "stdout",
     "output_type": "stream",
     "text": [
      " What's the name?\n",
      "The tool that should be run for a clean install is the sl -Msg2Fld tool.\n",
      " Where should I go for it \n",
      "The tool that should be run for a clean install is the sl -Msg2Fld tool.\n",
      " \n",
      "The tool that should be run for a clean install is the sl -Msg2Fld tool.\n"
     ]
    }
   ],
   "source": [
    "# continous exec\n",
    "query = \" \"\n",
    "chat_history = []\n",
    "while (text != \"\"):\n",
    "    query = input()\n",
    "    result = qa({\"question\": query, \"chat_history\": chat_history})\n",
    "    chat_history.append((query, result[\"answer\"]))\n",
    "    print(result['answer'])"
   ]
  },
  {
   "cell_type": "markdown",
   "id": "cc22962a-382a-410c-bd5d-fef4b44973a6",
   "metadata": {},
   "source": [
    "##### Stability Experiment"
   ]
  }
 ],
 "metadata": {
  "kernelspec": {
   "display_name": "Python 3",
   "language": "python",
   "name": "python3"
  },
  "language_info": {
   "codemirror_mode": {
    "name": "ipython",
    "version": 3
   },
   "file_extension": ".py",
   "mimetype": "text/x-python",
   "name": "python",
   "nbconvert_exporter": "python",
   "pygments_lexer": "ipython3",
   "version": "3.11.3"
  },
  "vscode": {
   "interpreter": {
    "hash": "b0fa6594d8f4cbf19f97940f81e996739fb7646882a419484c72d19e05852a7e"
   }
  }
 },
 "nbformat": 4,
 "nbformat_minor": 5
}
